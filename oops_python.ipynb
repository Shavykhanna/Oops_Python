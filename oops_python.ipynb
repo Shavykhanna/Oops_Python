{
 "cells": [
  {
   "cell_type": "code",
   "execution_count": 26,
   "id": "a502f8fd",
   "metadata": {},
   "outputs": [
    {
     "name": "stdout",
     "output_type": "stream",
     "text": [
      "Hi Shavy\n",
      "Your marks is:  99\n",
      "Congratulations, you have achieved HD grade\n"
     ]
    }
   ],
   "source": [
    "#creating a class named student\n",
    "class Student:\n",
    "    # constructor\n",
    "    def __init__(self,name,marks):\n",
    "        self.name = name\n",
    "        self.marks = marks\n",
    "        \n",
    "    # instance method    \n",
    "    def display(self):\n",
    "        print('Hi', self.name)\n",
    "        print('Your marks is: ', self.marks)\n",
    "        \n",
    "    # instance method    \n",
    "    def grade(self):\n",
    "        if(self.marks > 80):\n",
    "            print(\"Congratulations, you have achieved HD grade\")\n",
    "        elif(self.marks >= 50):\n",
    "            print(\"Congratulations, you have achieved Pass grade\")\n",
    "        else:\n",
    "            print(\"Unfortunately, you have achieved Fail grade\")\n",
    "        \n",
    "# providing input        \n",
    "s = Student('Shavy', 99)\n",
    "\n",
    "# calling display method to show the name and marks\n",
    "s.display()\n",
    "s.grade()\n",
    "    "
   ]
  },
  {
   "cell_type": "code",
   "execution_count": 30,
   "id": "e743f5ea",
   "metadata": {},
   "outputs": [
    {
     "name": "stdout",
     "output_type": "stream",
     "text": [
      "Parent method\n",
      "Child method\n"
     ]
    }
   ],
   "source": [
    "# Inheritance\n",
    "# Single Inheritance\n",
    "class P:\n",
    "    def m1(self):\n",
    "        print(\"Parent method\")\n",
    "        \n",
    "class C(P):\n",
    "    def m2(self):\n",
    "        print(\"Child method\")\n",
    "        \n",
    "c= C()\n",
    "c.m1()\n",
    "c.m2()\n"
   ]
  },
  {
   "cell_type": "code",
   "execution_count": 32,
   "id": "d40689ef",
   "metadata": {},
   "outputs": [
    {
     "name": "stdout",
     "output_type": "stream",
     "text": [
      "Sub child method\n",
      "Child method\n",
      "Parent Method\n"
     ]
    }
   ],
   "source": [
    "# Multi-level interihance\n",
    "class P:\n",
    "    def m1(self):\n",
    "        print(\"Parent Method\")\n",
    "        \n",
    "class C(P):\n",
    "    def m2(self):\n",
    "        print(\"Child method\")\n",
    "        \n",
    "class CC(C):\n",
    "    def m3(self):\n",
    "        print(\"Sub child method\")\n",
    "        \n",
    "c = CC()\n",
    "c.m3()\n",
    "c.m2()\n",
    "c.m1()\n"
   ]
  },
  {
   "cell_type": "code",
   "execution_count": 38,
   "id": "06a46476",
   "metadata": {},
   "outputs": [
    {
     "name": "stdout",
     "output_type": "stream",
     "text": [
      "Child method\n",
      "Parent method\n",
      "Sub Child method\n",
      "Parent method\n"
     ]
    }
   ],
   "source": [
    "# Hierarchical interihance\n",
    "class P:\n",
    "    def m1(self):\n",
    "        print(\"Parent method\")\n",
    "class C(P):\n",
    "    def m2(self):\n",
    "        print(\"Child method\")\n",
    "class CC(P):\n",
    "    def m3(self):\n",
    "        print(\"Sub Child method\")\n",
    "        \n",
    "c= C()\n",
    "c.m2()\n",
    "c.m1()\n",
    "\n",
    "cc=CC()\n",
    "cc.m3()\n",
    "cc.m1()"
   ]
  },
  {
   "cell_type": "code",
   "execution_count": 40,
   "id": "2e4f9347",
   "metadata": {},
   "outputs": [
    {
     "name": "stdout",
     "output_type": "stream",
     "text": [
      "Child method\n",
      "Parent 1 method\n",
      "Parent 2 method\n"
     ]
    }
   ],
   "source": [
    "# Multiple interihance\n",
    "\n",
    "class P1:\n",
    "    def m1(self):\n",
    "        print(\"Parent 1 method\")\n",
    "class P2:\n",
    "    def m2(self):\n",
    "        print(\"Parent 2 method\")\n",
    "        \n",
    "class C(P1,P2):\n",
    "    def m3(self):\n",
    "        print(\"Child method\")\n",
    "\n",
    "c = C()       \n",
    "c.m3()\n",
    "c.m1()\n",
    "c.m2()"
   ]
  },
  {
   "cell_type": "code",
   "execution_count": null,
   "id": "a7e56697",
   "metadata": {},
   "outputs": [],
   "source": [
    "# Polymorphism\n",
    "\n",
    "class Polygon:\n",
    "    "
   ]
  },
  {
   "cell_type": "code",
   "execution_count": 41,
   "id": "e0b07600",
   "metadata": {},
   "outputs": [
    {
     "data": {
      "text/plain": [
       "30"
      ]
     },
     "execution_count": 41,
     "metadata": {},
     "output_type": "execute_result"
    }
   ],
   "source": [
    "a=10\n",
    "b=20\n",
    "a+b"
   ]
  },
  {
   "cell_type": "code",
   "execution_count": 44,
   "id": "62b1343b",
   "metadata": {},
   "outputs": [
    {
     "data": {
      "text/plain": [
       "'Shavy Khanna Kirar'"
      ]
     },
     "execution_count": 44,
     "metadata": {},
     "output_type": "execute_result"
    }
   ],
   "source": [
    "a=\"Shavy \"\n",
    "b=\"Khanna \"\n",
    "c=\"Kirar\"\n",
    "a+b+c\n",
    "\n",
    "# operator overloading as it understands the input and performs opertaion as per the provided input. e.g., if a and\n",
    "# b are integers then + sign adds up the values and if the input is a string then it generates the concatenated \n",
    "# string as a result of + operator in between. Check this and above code block for the proving example.\n",
    "\n",
    "# operator overloading is possible in python with magic methods only"
   ]
  },
  {
   "cell_type": "code",
   "execution_count": 50,
   "id": "21be6a41",
   "metadata": {},
   "outputs": [
    {
     "name": "stdout",
     "output_type": "stream",
     "text": [
      "350\n"
     ]
    }
   ],
   "source": [
    "# Magic method and operator overloading is possible and it's a form of polymorphism \n",
    "\n",
    "class Book:\n",
    "    def __init__(self,pages):\n",
    "        self.pages = pages\n",
    "    def __add__(self,other):\n",
    "        total = self.pages + other.pages\n",
    "        return Book(total)\n",
    "    def __str__(self):\n",
    "        return str(self.pages)\n",
    "    \n",
    "b1 = Book(100)\n",
    "b2 = Book(200)\n",
    "b3 = Book(50)\n",
    "print(b1+b2+b3)"
   ]
  },
  {
   "cell_type": "code",
   "execution_count": 52,
   "id": "2f091058",
   "metadata": {},
   "outputs": [
    {
     "data": {
      "text/plain": [
       "['__abs__',\n",
       " '__add__',\n",
       " '__and__',\n",
       " '__bool__',\n",
       " '__ceil__',\n",
       " '__class__',\n",
       " '__delattr__',\n",
       " '__dir__',\n",
       " '__divmod__',\n",
       " '__doc__',\n",
       " '__eq__',\n",
       " '__float__',\n",
       " '__floor__',\n",
       " '__floordiv__',\n",
       " '__format__',\n",
       " '__ge__',\n",
       " '__getattribute__',\n",
       " '__getnewargs__',\n",
       " '__gt__',\n",
       " '__hash__',\n",
       " '__index__',\n",
       " '__init__',\n",
       " '__init_subclass__',\n",
       " '__int__',\n",
       " '__invert__',\n",
       " '__le__',\n",
       " '__lshift__',\n",
       " '__lt__',\n",
       " '__mod__',\n",
       " '__mul__',\n",
       " '__ne__',\n",
       " '__neg__',\n",
       " '__new__',\n",
       " '__or__',\n",
       " '__pos__',\n",
       " '__pow__',\n",
       " '__radd__',\n",
       " '__rand__',\n",
       " '__rdivmod__',\n",
       " '__reduce__',\n",
       " '__reduce_ex__',\n",
       " '__repr__',\n",
       " '__rfloordiv__',\n",
       " '__rlshift__',\n",
       " '__rmod__',\n",
       " '__rmul__',\n",
       " '__ror__',\n",
       " '__round__',\n",
       " '__rpow__',\n",
       " '__rrshift__',\n",
       " '__rshift__',\n",
       " '__rsub__',\n",
       " '__rtruediv__',\n",
       " '__rxor__',\n",
       " '__setattr__',\n",
       " '__sizeof__',\n",
       " '__str__',\n",
       " '__sub__',\n",
       " '__subclasshook__',\n",
       " '__truediv__',\n",
       " '__trunc__',\n",
       " '__xor__',\n",
       " 'as_integer_ratio',\n",
       " 'bit_length',\n",
       " 'conjugate',\n",
       " 'denominator',\n",
       " 'from_bytes',\n",
       " 'imag',\n",
       " 'numerator',\n",
       " 'real',\n",
       " 'to_bytes']"
      ]
     },
     "execution_count": 52,
     "metadata": {},
     "output_type": "execute_result"
    }
   ],
   "source": [
    "# Shows list of available magic methods\n",
    "\n",
    "dir(int)"
   ]
  },
  {
   "cell_type": "code",
   "execution_count": 57,
   "id": "9a3de35d",
   "metadata": {},
   "outputs": [
    {
     "name": "stdout",
     "output_type": "stream",
     "text": [
      "Two args method\n"
     ]
    }
   ],
   "source": [
    "# Method Overloading not possible directly\n",
    "\n",
    "class Test:\n",
    "    def m1(self):\n",
    "        print('No args Method')\n",
    "    def m1(self, a):\n",
    "        print('One arg method')\n",
    "    def m1(self,a,b):\n",
    "        print('Two args method')\n",
    "        \n",
    "t= Test()\n",
    "# t.m1()\n",
    "# t.m1(10)\n",
    "t.m1(10,20)"
   ]
  },
  {
   "cell_type": "code",
   "execution_count": 62,
   "id": "4c16a339",
   "metadata": {},
   "outputs": [
    {
     "name": "stdout",
     "output_type": "stream",
     "text": [
      "Atleast Pass one argument\n",
      "Number 10\n",
      "Sum of  30\n",
      "The sum is  60\n"
     ]
    }
   ],
   "source": [
    "# Method Overloading is difficult when defining all the args one by one\n",
    "class Test:\n",
    "    def sum(self, a=None, b=None, c=None):\n",
    "        if a!=None and b!=None and c!=None:\n",
    "            print('The sum is ',a+b+c)\n",
    "        elif a!=None and b!=None:\n",
    "            print('Sum of ',a+b)\n",
    "        elif a!=None:\n",
    "            print('Number',a)\n",
    "        else:\n",
    "            print('Atleast Pass one argument')\n",
    "            \n",
    "t= Test()\n",
    "t.sum()\n",
    "t.sum(10)\n",
    "t.sum(10,20)\n",
    "t.sum(10,20,30)"
   ]
  },
  {
   "cell_type": "code",
   "execution_count": 64,
   "id": "57f7ce78",
   "metadata": {},
   "outputs": [
    {
     "name": "stdout",
     "output_type": "stream",
     "text": [
      "the sum is  10\n",
      "the sum is  20\n",
      "the sum is  30\n",
      "the sum is  202\n"
     ]
    }
   ],
   "source": [
    "# Method Overloading implemented easily by putting *a as an argument which allows any number of args\n",
    "class Test:\n",
    "    def sum(self,*a):\n",
    "        total = 0\n",
    "        for x in a:\n",
    "            total = total +x\n",
    "        print('the sum is ', total)\n",
    "        \n",
    "t= Test()\n",
    "t.sum(10)\n",
    "t.sum(10,10)\n",
    "t.sum(10,10,10)\n",
    "t.sum(10,10,10,32,50,34,56)           \n",
    "        "
   ]
  },
  {
   "cell_type": "code",
   "execution_count": 67,
   "id": "bb23faba",
   "metadata": {},
   "outputs": [
    {
     "name": "stdout",
     "output_type": "stream",
     "text": [
      "Two args const\n"
     ]
    }
   ],
   "source": [
    "# Constructor Overloading not possible directly as method overloading\n",
    "\n",
    "\n",
    "class Test:\n",
    "    def __init__(self):\n",
    "        print('No args const')\n",
    "    def __init__(self,a):\n",
    "        print('One arg const')\n",
    "    def __init__(self,a,b):\n",
    "        print('Two args const')\n",
    "        \n",
    "# when we create multiple constructors the last const will take priority because it is the behavious of python\n",
    "# so only last test with two args will works other won't\n",
    "\n",
    "# t=Test()\n",
    "# t=Test(10)\n",
    "t=Test(10,20)"
   ]
  },
  {
   "cell_type": "code",
   "execution_count": 69,
   "id": "e50522f3",
   "metadata": {},
   "outputs": [
    {
     "name": "stdout",
     "output_type": "stream",
     "text": [
      "C with 0|1|2|3 args\n",
      "C with 0|1|2|3 args\n",
      "C with 0|1|2|3 args\n",
      "C with 0|1|2|3 args\n"
     ]
    }
   ],
   "source": [
    "# Constructor Overloading by defining args step by step\n",
    "\n",
    "class Test:\n",
    "    def __init__(self,a=None, b=None, c=None):\n",
    "        print('C with 0|1|2|3 args')\n",
    "t=Test()\n",
    "t=Test(10)\n",
    "t=Test(10,20)\n",
    "t=Test(10,20,30)\n"
   ]
  },
  {
   "cell_type": "code",
   "execution_count": 70,
   "id": "9d73c26e",
   "metadata": {},
   "outputs": [
    {
     "name": "stdout",
     "output_type": "stream",
     "text": [
      "Const\n",
      "Const\n",
      "Const\n",
      "Const\n",
      "Const\n"
     ]
    }
   ],
   "source": [
    "# # Constructor Overloading using a* for any no. of args\n",
    "\n",
    "class Test:\n",
    "    def __init__(self,*a):\n",
    "        print('Const')\n",
    "t=Test()\n",
    "t=Test(10)\n",
    "t=Test(10,20)\n",
    "t=Test(10,20,30)\n",
    "t=Test(10,10,10,32,50,34,56)  "
   ]
  },
  {
   "cell_type": "code",
   "execution_count": 73,
   "id": "f5482a08",
   "metadata": {},
   "outputs": [
    {
     "name": "stdout",
     "output_type": "stream",
     "text": [
      "Land|Cash|Gold|Power\n",
      "X|Y|Z\n",
      "A|B|C\n"
     ]
    }
   ],
   "source": [
    "# use of super\n",
    "\n",
    "class P:\n",
    "    def property(self):\n",
    "        print('Land|Cash|Gold|Power')\n",
    "    def marriage(self):\n",
    "        print('X|Y|Z')\n",
    "        \n",
    "class C(P):\n",
    "    def marriage(self):\n",
    "# super keyword is used to get the contents of parents class as well.\n",
    "        super().marriage()  \n",
    "        print('A|B|C')\n",
    "        \n",
    "c=C()\n",
    "c.property()\n",
    "c.marriage()"
   ]
  },
  {
   "cell_type": "markdown",
   "id": "e10a1e51",
   "metadata": {},
   "source": [
    "# Abstract method : a method having no proper implementation\n",
    "@abstractmethod"
   ]
  },
  {
   "cell_type": "code",
   "execution_count": 82,
   "id": "1a06fe89",
   "metadata": {},
   "outputs": [
    {
     "name": "stdout",
     "output_type": "stream",
     "text": [
      "M2 logic present here\n",
      "M1 logic present here\n"
     ]
    }
   ],
   "source": [
    "from abc import *\n",
    "class Vehicle(ABC):\n",
    "    @abstractmethod\n",
    "    def m1(self):pass\n",
    "    @abstractmethod\n",
    "    def m2(self):\n",
    "        print('Property')\n",
    "    \n",
    "class C(Vehicle):\n",
    "    def m1(self):\n",
    "        print('M1 logic present here')\n",
    "    def m2(self):\n",
    "        print('M2 logic present here')\n",
    "        \n",
    "c = C()\n",
    "c.m2()\n",
    "c.m1()\n",
    "# v=Vehicle()"
   ]
  },
  {
   "cell_type": "code",
   "execution_count": null,
   "id": "1763ace6",
   "metadata": {},
   "outputs": [],
   "source": []
  }
 ],
 "metadata": {
  "kernelspec": {
   "display_name": "Python 3",
   "language": "python",
   "name": "python3"
  },
  "language_info": {
   "codemirror_mode": {
    "name": "ipython",
    "version": 3
   },
   "file_extension": ".py",
   "mimetype": "text/x-python",
   "name": "python",
   "nbconvert_exporter": "python",
   "pygments_lexer": "ipython3",
   "version": "3.8.8"
  }
 },
 "nbformat": 4,
 "nbformat_minor": 5
}
